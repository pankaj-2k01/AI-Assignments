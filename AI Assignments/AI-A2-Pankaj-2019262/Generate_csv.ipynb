{
  "nbformat": 4,
  "nbformat_minor": 0,
  "metadata": {
    "colab": {
      "provenance": []
    },
    "kernelspec": {
      "name": "python3",
      "display_name": "Python 3"
    },
    "language_info": {
      "name": "python"
    }
  },
  "cells": [
    {
      "cell_type": "code",
      "source": [
        "from google.colab import drive\n",
        "drive.mount('/content/drive')\n",
        "import pandas as pd\n",
        "import geopy.distance\n",
        "from google.colab import files\n",
        "from geopy.geocoders import Nominatim\n",
        "geolocator = Nominatim(user_agent=\"MyApp\")"
      ],
      "metadata": {
        "colab": {
          "base_uri": "https://localhost:8080/"
        },
        "id": "okW68DV4boz-",
        "outputId": "22639cb2-0551-4c23-aba7-b335bdd1d5d6"
      },
      "execution_count": null,
      "outputs": [
        {
          "output_type": "stream",
          "name": "stdout",
          "text": [
            "Drive already mounted at /content/drive; to attempt to forcibly remount, call drive.mount(\"/content/drive\", force_remount=True).\n"
          ]
        }
      ]
    },
    {
      "cell_type": "code",
      "source": [
        "def dfs_csv():\n",
        "    pd.set_option('display.expand_frame_repr', False)\n",
        "    data=pd.read_csv('/content/drive/MyDrive/AI Assignment-2 csv/roaddistance.csv',header=None)\n",
        "    data=data.drop(columns=22,axis=1)\n",
        "    data=data.drop(columns=0,axis=1)\n",
        "    data=data.drop(0)\n",
        "    row,col=data.shape\n",
        "    dfs=[]\n",
        "    for i in range(2,row+1):\n",
        "        for j in range(2,col+1):\n",
        "            if str(data[1][i])==str(data[j][1]):\n",
        "                dfs.append([data[1][i],data[j][1],0])\n",
        "                # print(str(data[1][i])+\" \"+str(data[j][1])+\" \"+str(0))\n",
        "            else:\n",
        "                dfs.append([data[1][i],data[j][1],data[j][i]])\n",
        "                dfs.append([data[j][1],data[1][i],data[j][i]])\n",
        "                # print(str(data[1][i])+\" \"+str(data[j][1])+\" \"+str(data[j][i]))\n",
        "                # print(str(data[j][1])+\" \"+str(data[1][i])+\" \"+str(data[j][i]))\n",
        "    df=pd.DataFrame(dfs)\n",
        "    df.to_csv(\"/content/drive/MyDrive/AI Assignment-2 csv/dfs.csv\",header=False,index=False)\n",
        "    print(df)"
      ],
      "metadata": {
        "id": "HciLQZXw4zEQ"
      },
      "execution_count": null,
      "outputs": []
    },
    {
      "cell_type": "code",
      "source": [
        "dfs_csv()"
      ],
      "metadata": {
        "id": "B59aB1uAbrr4"
      },
      "execution_count": null,
      "outputs": []
    },
    {
      "cell_type": "code",
      "source": [
        "def bfs_csv():\n",
        "    pd.set_option('display.expand_frame_repr', False)\n",
        "    distances=pd.read_csv('/content/drive/MyDrive/AI Assignment-2 csv/roaddistance.csv',header=None)\n",
        "    distances=distances.drop(columns=21,axis=1)\n",
        "    distances=distances.drop(columns=0,axis=1)\n",
        "    distances=distances.drop(0)\n",
        "    print(distances)\n",
        "\n",
        "    l2=list(distances.iloc[0])\n",
        "    del l2[-1]\n",
        "    del l2[0]\n",
        "    print(l2)\n",
        "\n",
        "    l1=list(distances[1])\n",
        "    del l1[0]\n",
        "    print(l1)\n",
        "\n",
        "    s1 = set().union(l1, l2)\n",
        "    city_names = list(s1)\n",
        "    df = []\n",
        "    for city in city_names:\n",
        "        print(city)\n",
        "        location = geolocator.geocode(city)\n",
        "        lat = location.latitude\n",
        "        lon = location.longitude\n",
        "        df.append([city, lon, lat])\n",
        "\n",
        "    finalData = []\n",
        "    for i in range(len(df)):\n",
        "        city_name = df[i][0]\n",
        "        city_lat = df[i][1]\n",
        "        city_long = df[i][2]\n",
        "\n",
        "        for j in range(len(df)):\n",
        "            sec_name = df[j][0]\n",
        "            sec_lat = df[j][1]\n",
        "            sec_long = df[j][2]\n",
        "\n",
        "            c1 = (city_long, city_lat)\n",
        "            c2 = (sec_long, sec_lat)\n",
        "            dist = int(geopy.distance.distance(c1, c2).km)\n",
        "            finalData.append([city_name, sec_name, dist])\n",
        "\n",
        "    finalDF = pd.DataFrame(finalData)\n",
        "    finalDF.to_csv('/content/drive/MyDrive/AI Assignment-2 csv/heuristics.csv')\n",
        "    # files.download(\"heuristics.csv\")\n",
        "\n",
        "bfs_csv()"
      ],
      "metadata": {
        "colab": {
          "base_uri": "https://localhost:8080/"
        },
        "id": "VFyNeR64Tuk7",
        "outputId": "d856bd19-f8a8-4edb-a0c7-c3617f511334"
      },
      "execution_count": null,
      "outputs": [
        {
          "output_type": "stream",
          "name": "stdout",
          "text": [
            "                        1          2          3             4       5         6           7       8      9          10  ...      12      13       14      15      16     17      18     19           20  22\n",
            "1   Distance in Kilometres  Ahmedabad  Bangalore  Bhubaneshwar  Bombay  Calcutta  Chandigarh  Cochin  Delhi  Hyderabad  ...  Jaipur  Kanpur  Lucknow  Madras  Nagpur  Nasik  Panjim  Patna  Pondicherry NaN\n",
            "2                 Agartala       3305       3824          2286    3593      1863        2998    4304   2708       3330  ...    2801    2281     2252    3493    2696   3365    3507   1681         3661 NaN\n",
            "3                     Agra        878       1848          1578    1202      1300         448    2278    200       1246  ...     230     290      369    2048     770   1005    1715    885         2210 NaN\n",
            "4                Ahmedabad          -       1490          1697     552      2068        1157    1845    911       1436  ...     648    1168     1247    1821     965    504    1165   1656         1818 NaN\n",
            "5                Allahabad       1251       1686          1090    1457       817         912    2216    650       1084  ...     713     193      234    2011     608   1155    1419    402         1077 NaN\n",
            "6                 Amritsar       1356       2496          2224    1849      1919         239    3163    445       1892  ...     706     926      939    2688    1416   1665    2237   1531         2856 NaN\n",
            "7                  Asansol       1842       2187           523    2040       226        1503    2544   1262       1693  ...    1304     789      825    1857    1122   1746    2300    395         2024 NaN\n",
            "8                Bangalore       1490          -          1538    1013      1961        2296     512   2049        563  ...    2005    1855     1934     331    1078   1035     440   2071          328 NaN\n",
            "9                   Baroda        119       1408          1604     433      1937        1181    1763   1151       1127  ...     789    1230     1311    1739     774    457    1158   1582         1735 NaN\n",
            "10                  Bhopal        523       1148          1162     778      1495         988    1995    742        808  ...     596     585      664    1604     352    605    1143   1016         1772 NaN\n",
            "11            Bhubaneshwar       1647       1538             -    1679       423        2026    1895   1713       1044  ...    1758    1283     1254    1207     830   1516    1455    862         1375 NaN\n",
            "12                  Bombay        552       1013          1678       -      2012        1645    1368   1404        729  ...    1148    1278     1366    1344     849    197     584   1856         1452 NaN\n",
            "13                Calcutta       2068       1461           423    2012         -        1721    2318   1474       1467  ...    1530    1010     1089    1160    1163   1849     974    621         1798 NaN\n",
            "14                 Calicut       1648        520          1923    1171      2346        2741     222   2494        910  ...    2523    2260     2339     715    1483   1193     576   2476          566 NaN\n",
            "15              Chandigarh       1157       2296          2026    1645      1721           -    1965    248       1693  ...     507     661      740    2489    1217   1466    2028   1332         2657 NaN\n",
            "16                  Cochin       1845        512          1895    1368      2318        1965       -   2718       1090  ...    2745    2385     2572     687    1608   1390     798   2601          530 NaN\n",
            "17              Coimbatore       1669        333          1633    1192      2057        2669     195   2412        912  ...    2369    2218     2297     426    1441   1214     800   2434          410 NaN\n",
            "18                   Delhi        911       2049          1713    1404      1474         248    2718      -       1477  ...     263     481      499    2243     971   1220    1782   1086         2411 NaN\n",
            "19                 Gwalior        919       1734          1486    1085      1224         462    1881    315       1132  ...     351     280      359    1928     656    891    1467    809         2096 NaN\n",
            "20                   Hubli       1101        391          1620     614      2032        2101     774   1854        486  ...    1060    1772     1851     683     995    646     190   1998          653 NaN\n",
            "21               Hyderabad       1436        563          1044     729      1467        1693    1090   1447          -  ...    1404    1253     1332     699     476    754     765   1469          865 NaN\n",
            "22                  Imphal       3240       3677          2139    3446      1717        2851    4156   2561       3283  ...    2654    2134     2105    3326    2549   3218    3360   1534         3614 NaN\n",
            "23                  Indore        442       1601          1355     589      1620        1052    1804    806        999  ...     405     689      768    1795     445    414    1115   1205         1963 NaN\n",
            "24                Jabalpur        901       1335          1087    1143      1167        1046    1885    800        733  ...     845     543      584    1529     257    943    1088    736         1697 NaN\n",
            "25                  Jaipur        648       2005          1758    1148      1530         507    2745    263       1404  ...       -     517      598    2200     928   1248    2496   1115         2368 NaN\n",
            "26              Jamshedpur       1225       1690           422    1916       268        1602    2710   1356       1578  ...    1387     867     1121    1629    1102   1788    2229    473         1797 NaN\n",
            "27               Jullundur       1285       2416          2413    1778      1869         154    3082    375       1821  ...     891     855      868    2617    1354   1591    2146   1460         2785 NaN\n",
            "28                  Kanpur       1168       1855          1283    1278      1010         661    2385    481       1253  ...     517       -       79    2049     777   1103    1813    596         2217 NaN\n",
            "29                Kolhapur        911        484          1622     426      2045        1910     934   1664        578  ...    1518    1779     1858     910    1050    456     254   2047          907 NaN\n",
            "30                 Lucknow       1247       1934          1254    1366      1089         740    2572    499       1332  ...     598      79        -    2128     856   1182    1883    566         2296 NaN\n",
            "31                Ludhiana       1220       2358          2088    1770      1783         105    3027    310       1756  ...     570     790      803    2552    1280   1528    2091   1395         2720 NaN\n",
            "32                  Madras       1821        331          1207    1344      1630        2489     687   2243        699  ...    2200    2049     2128       -    1272   1366     909   2096          168 NaN\n",
            "33                 Madurai       1922        432          1687    1458      2110        2785     326   2539        995  ...    2496    2345     2424     480    1568   1467     872   2561          333 NaN\n",
            "34                  Meerut       1092       2072          1822    1468      1497         381    2741     66       1470  ...     327     537      453    2266     994   1242    1805    934         2434 NaN\n",
            "35                  Nagpur        965       1078           830     849      1163        1217    1608    971        476  ...     928     777      856    1272       -    700    1247    993         1440 NaN\n",
            "36                   Nasik        504       1036          1516     197      1849        1466    1390   1220        754  ...    1246    1103     1182    1366     700      -     701   1679         1363 NaN\n",
            "37                  Panjim       1165        440          1455     584       974        2028     798   1782        765  ...    2496    1813     1883     909    1247    701       -   1804          739 NaN\n",
            "38                   Patna       1656       2071           862    1856       621        1332    2601   1086       1489  ...    1115     595      566    2096     993   1679    1804      -         2264 NaN\n",
            "39             Pondicherry       1818        328          1375    1452      1798        2657     530   2411        867  ...    2368    2217     2296     168    1440   1363     739   2264            - NaN\n",
            "40                    Pune        664        826          1587     184      2058        1663    1181   1417        545  ...    1371    1312     1391    1157     909    209     501   1738         1154 NaN\n",
            "41                  Ranchi       1781       2098           560    1816       414        1480    2455   1214       1434  ...    1243     723      912    1767     958   1615    1630    302         1935 NaN\n",
            "42                Shillong       2839       3242          1640    3011      1281        2416    3599   2126       1309  ...    2229    1699     1670    2911    2114   2800    2925   1019         3079 NaN\n",
            "43                  Shimla       1256       2395          2127    1753      1839          99    3056    365       1812  ...     636     846      659    2588    1336   1567    2130   1434         2759 NaN\n",
            "44                   Surat        263       1264          1579     301      1912        1325    1593   1182        983  ...     932    1296     1375    1695     749    262     913   1742         1789 NaN\n",
            "45              Trivandrum       2197        696          1953    1376      2376        3051     218   1950       1261  ...    2782    2611     2690     748    1834   1742     792   2827          622 NaN\n",
            "46                Varanasi       1373       1791           968    1597       695        1032    2331    745       1189  ...     835     315      286    1985     713   1399    1524    280         2153 NaN\n",
            "47              Vijayawada       1705        637           775     973      1198        1959    1174   1716        269  ...    1660    1519     1598     432     742   1428     876   1664          598 NaN\n",
            "48           Vishakapatnam       1815       1093           445    1754       868        2127    1449   1881        599  ...    1838    1687     1765     762     910   1596    1206   1334          930 NaN\n",
            "\n",
            "[48 rows x 21 columns]\n",
            "['Ahmedabad', 'Bangalore', 'Bhubaneshwar', 'Bombay', 'Calcutta', 'Chandigarh', 'Cochin', 'Delhi', 'Hyderabad', 'Indore', 'Jaipur', 'Kanpur', 'Lucknow', 'Madras', 'Nagpur', 'Nasik', 'Panjim', 'Patna', 'Pondicherry']\n",
            "['Agartala', 'Agra', 'Ahmedabad', 'Allahabad', 'Amritsar', 'Asansol', 'Bangalore', 'Baroda', 'Bhopal', 'Bhubaneshwar', 'Bombay', 'Calcutta', 'Calicut', 'Chandigarh', 'Cochin', 'Coimbatore', 'Delhi', 'Gwalior', 'Hubli', 'Hyderabad', 'Imphal', 'Indore', 'Jabalpur', 'Jaipur', 'Jamshedpur', 'Jullundur', 'Kanpur', 'Kolhapur', 'Lucknow', 'Ludhiana', 'Madras', 'Madurai', 'Meerut', 'Nagpur', 'Nasik', 'Panjim', 'Patna', 'Pondicherry', 'Pune', 'Ranchi', 'Shillong', 'Shimla', 'Surat', 'Trivandrum', 'Varanasi', 'Vijayawada', 'Vishakapatnam']\n",
            "Ludhiana\n",
            "Pune\n",
            "Shillong\n",
            "Panjim\n",
            "Asansol\n",
            "Cochin\n",
            "Indore\n",
            "Jullundur\n",
            "Gwalior\n",
            "Lucknow\n",
            "Vijayawada\n",
            "Vishakapatnam\n",
            "Agra\n",
            "Madras\n",
            "Jabalpur\n",
            "Delhi\n",
            "Imphal\n",
            "Hyderabad\n",
            "Agartala\n",
            "Varanasi\n",
            "Patna\n",
            "Calicut\n",
            "Shimla\n",
            "Kolhapur\n",
            "Kanpur\n",
            "Trivandrum\n",
            "Meerut\n",
            "Hubli\n",
            "Madurai\n",
            "Coimbatore\n",
            "Calcutta\n",
            "Ranchi\n",
            "Chandigarh\n",
            "Amritsar\n",
            "Nasik\n",
            "Jamshedpur\n",
            "Baroda\n",
            "Surat\n",
            "Bhopal\n",
            "Ahmedabad\n",
            "Bhubaneshwar\n",
            "Bangalore\n",
            "Jaipur\n",
            "Allahabad\n",
            "Nagpur\n",
            "Bombay\n",
            "Pondicherry\n"
          ]
        }
      ]
    }
  ]
}